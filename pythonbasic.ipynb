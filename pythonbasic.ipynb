{
  "nbformat": 4,
  "nbformat_minor": 0,
  "metadata": {
    "colab": {
      "provenance": []
    },
    "kernelspec": {
      "name": "python3",
      "display_name": "Python 3"
    },
    "language_info": {
      "name": "python"
    }
  },
  "cells": [
    {
      "cell_type": "code",
      "execution_count": null,
      "metadata": {
        "id": "BceS49jvmYVs"
      },
      "outputs": [],
      "source": []
    },
    {
      "cell_type": "markdown",
      "source": [
        "1. What is Python, and why is it popular?\n",
        "   - Python is a popular programming language that's used for many tasks, including web development, data science, and game developmen\n",
        "\n",
        "2.  What is an interpreter in Python?\n",
        "    - A Python interpreter is a program that executes Python code line by line.\n",
        "\n",
        "3. What are pre-defined keywords in Python?\n",
        "   - Pre-defined keywords in Python, also known as reserved words, are special words that have specific meanings and cannot be used as variable names, function names, or identifiers. These keywords define the syntax and structure of Python programs.\n",
        "\n",
        "4. Can keywords be used as variable names?\n",
        "   - No, keywords cannot be used as variable names in Python. Since keywords have predefined meanings, using them as variable names would cause syntax errors.\n",
        "\n",
        "5. What is mutability in Python?\n",
        "   - In Python, mutability refers to the ability of an object to change its value or state after it has been created.\n",
        "\n",
        "6. Why are lists mutable, but tuples are immutable?\n",
        "   - In Python, lists are mutable, while tuples are immutable due to their design and intended use\n",
        "\n",
        "   Lists Mutable → Can be changed modified, added, removed elements after creation.\n",
        "   Tuples Immutable → Cannot be changed once created.  \n",
        "\n",
        "7. What is the difference between “==” and “is” operators in Python?\n",
        "   - In Python, \"==\" and \"is\" are both comparison operators, but they serve different purposes.\n",
        "   * \"==\" Equality Operator  Checks if the values of two objects are equal.\n",
        "                             Even if two different objects have the same value, \"==\" will return True\n",
        "\n",
        "8. What are logical operators in Python?\n",
        "   - Logical operators in Python are used to combine conditional statements and return Boolean values True or False.\n",
        "\n",
        "9. What is type casting in Python?   \n",
        "   - Type casting also called type conversion is the process of converting one data type into another.\n",
        "\n",
        "10. What is the difference between implicit and explicit type casting?\n",
        "    - Implicit type casting\n",
        "      1- Also known as implicit conversion\n",
        "      2- Occurs when a programming language automatically converts one data type to another\n",
        "      3- No special syntax is required\n",
        "      Examples include converting smaller to larger integral types\n",
        "\n",
        "      Explicit type casting\n",
        "      1- Also known as narrowing casting\n",
        "      2- Requires a cast expression\n",
        "      3- Occurs when a programmer manually converts a larger data type to a smaller data type\n",
        "      Can lead to data loss or precision loss.\n",
        "\n",
        "11. What is the purpose of conditional statements in Python?\n",
        "    - Conditional statements in Python allow the program to make decisions and execute different code based on conditions. They control the flow of execution, enabling the program to behave dynamically based on different inputs.\n",
        "\n",
        "12. How does the elif statement work?\n",
        "    - The elif statement in Python is used when multiple conditions need to be checked sequentially. It stands for \"else if\" and allows a program to choose one condition to execute among many.\n",
        "\n",
        "13. What is the difference between for and while loops?\n",
        "    - The key difference between for and while loops lies in how they control iteration: for loops are used when you know the number of iterations beforehand, while while loops continue until a condition becomes false.\n",
        "\n",
        "14.  Describe a scenario where a while loop is more suitable than a for loop.\n",
        "     - In programming, for loops are best used when you know the number of iterations ahead of time, whereas a while loop is best used when you don't know the number of iterations in advance. Both methods can help you iterate through your code."
      ],
      "metadata": {
        "id": "4PnCuIJ_nsq4"
      }
    },
    {
      "cell_type": "markdown",
      "source": [
        "1.Write a Python program to print \"Hello, World!\n"
      ],
      "metadata": {
        "id": "5LF1lsn_ohr6"
      }
    },
    {
      "cell_type": "code",
      "source": [
        "print(\"Hello, World\")"
      ],
      "metadata": {
        "colab": {
          "base_uri": "https://localhost:8080/"
        },
        "id": "RiXsha0ApHwQ",
        "outputId": "0d7861a7-efbf-4821-c9a2-fbc4abfc455a"
      },
      "execution_count": 1,
      "outputs": [
        {
          "output_type": "stream",
          "name": "stdout",
          "text": [
            "Hello, World\n"
          ]
        }
      ]
    },
    {
      "cell_type": "markdown",
      "source": [
        "2.Write a Python program that displays your name and age"
      ],
      "metadata": {
        "id": "9Oc5F0tupORO"
      }
    },
    {
      "cell_type": "code",
      "source": [
        "name = \"amartya\"\n",
        "print(\"My name is\", name)\n",
        "print(\"You are\", 26, \"years old.\")"
      ],
      "metadata": {
        "id": "VJc8fT5opUD2"
      },
      "execution_count": null,
      "outputs": []
    },
    {
      "cell_type": "markdown",
      "source": [
        "3.Write code to print all the pre-defined keywords in Python using the keyword library?"
      ],
      "metadata": {
        "id": "zVAA6haNpb5j"
      }
    },
    {
      "cell_type": "code",
      "source": [
        "import keyword # import the 'keyword' module to access its functions and attributes\n",
        "\n",
        "# Get the list of Python keywords\n",
        "keywords_list = keyword.kwlist\n",
        "\n",
        "# Print all keywords\n",
        "print(\"Python Keywords:\")\n",
        "for kw in keywords_list:\n",
        "    print(kw)"
      ],
      "metadata": {
        "id": "CZEaX1oNpfM1"
      },
      "execution_count": null,
      "outputs": []
    },
    {
      "cell_type": "markdown",
      "source": [
        "4.Write a program that checks if a given word is a Python keyword."
      ],
      "metadata": {
        "id": "b8DJt9mApl1-"
      }
    },
    {
      "cell_type": "code",
      "source": [
        "word = input(\"Enter a word to check: \")\n",
        "\n",
        "# Check if the word is a keyword\n",
        "if keyword.iskeyword(word):\n",
        "    print(f\"'{word}' is a Python keyword.\")\n",
        "else:\n",
        "    print(f\"'{word}' is NOT a Python keyword.\")"
      ],
      "metadata": {
        "id": "MOSJE5klpqAb"
      },
      "execution_count": null,
      "outputs": []
    },
    {
      "cell_type": "markdown",
      "source": [
        "5.Create a list and tuple in Python, and demonstrate how attempting to change an element works differently for each.\n",
        "\n"
      ],
      "metadata": {
        "id": "t9ASNXrSpt_V"
      }
    },
    {
      "cell_type": "code",
      "source": [
        "# Creating a list\n",
        "my_list = [10, 20, 30, 40]\n",
        "print(\"Original List:\", my_list)\n",
        "\n",
        "# Modifying an element in the list (Lists are mutable)\n",
        "my_list[1] = 25\n",
        "print(\"Modified List:\", my_list)\n",
        "\n",
        "# Creating a tuple\n",
        "my_tuple = (10, 20, 30, 40)\n",
        "print(\"\\nOriginal Tuple:\", my_tuple)\n",
        "\n",
        "# Attempting to modify an element in the tuple (Tuples are immutable)\n",
        "try:\n",
        "    my_tuple[1] = 25  # This will cause an error\n",
        "except TypeError as e:\n",
        "    print(\"Error:\", e)"
      ],
      "metadata": {
        "id": "McJxX3Vrpx3u"
      },
      "execution_count": null,
      "outputs": []
    },
    {
      "cell_type": "markdown",
      "source": [
        "6.Write a function to demonstrate the behavior of mutable and immutable arguments."
      ],
      "metadata": {
        "id": "8bWmTd5cp4fN"
      }
    },
    {
      "cell_type": "code",
      "source": [
        "# Function to modify an immutable argument\n",
        "def modify_immutable(x):\n",
        "    print(\"Before modification (inside function):\", x)\n",
        "    x += 10  # This creates a new integer object\n",
        "    print(\"After modification (inside function):\", x)\n",
        "\n",
        "# Function to modify a mutable argument\n",
        "def modify_mutable(lst):\n",
        "    print(\"Before modification (inside function):\", lst)\n",
        "    lst.append(100)  # Modifies the original list\n",
        "    print(\"After modification (inside function):\", lst)\n",
        "\n",
        "\n",
        "# Immutable Example (Integer)\n",
        "num = 50\n",
        "print(\"Original num (before function call):\", num)\n",
        "modify_immutable(num)\n",
        "print(\"Original num (after function call):\", num)  # Remains unchanged\n",
        "\n",
        "print(\"\\n----------------\\n\")\n",
        "\n",
        "# Mutable Example (List)\n",
        "numbers = [10, 20, 30]\n",
        "print(\"Original list (before function call):\", numbers)\n",
        "modify_mutable(numbers)\n",
        "print(\"Original list (after function call):\", numbers)  # Changed!"
      ],
      "metadata": {
        "id": "i2w_n8hFp9L5"
      },
      "execution_count": null,
      "outputs": []
    },
    {
      "cell_type": "markdown",
      "source": [
        "7.Write a program to demonstrate the use of logical operators"
      ],
      "metadata": {
        "id": "hpPYMw9NqGCI"
      }
    },
    {
      "cell_type": "code",
      "source": [
        "# Function to demonstrate the use of logical operators\n",
        "def logical_operators_demo(a, b):\n",
        "    # Using 'and' operator\n",
        "    if a > 0 and b > 0:\n",
        "        print(f\"Both {a} and {b} are positive numbers (and operator).\")\n",
        "    else:\n",
        "        print(f\"Either {a} or {b} is not positive (and operator).\")\n",
        "\n",
        "    # Using 'or' operator\n",
        "    if a > 0 or b > 0:\n",
        "        print(f\"At least one of {a} or {b} is positive (or operator).\")\n",
        "    else:\n",
        "        print(f\"Neither {a} nor {b} is positive (or operator).\")\n",
        "\n",
        "    # Using 'not' operator\n",
        "    if not a < 0:\n",
        "        print(f\"{a} is not negative (not operator).\")\n",
        "    else:\n",
        "        print(f\"{a} is negative (not operator).\")\n",
        "\n",
        "# Test the function with different values for a and b\n",
        "print(\"Test Case 1: a = 5, b = 3\")\n",
        "logical_operators_demo(5, 3)\n",
        "\n",
        "print(\"\\nTest Case 2: a = -1, b = 5\")\n",
        "logical_operators_demo(-1, 5)\n",
        "\n",
        "print(\"\\nTest Case 3: a = -3, b = -5\")\n",
        "logical_operators_demo(-3, -5)"
      ],
      "metadata": {
        "id": "MqwVkL9jqKaP"
      },
      "execution_count": null,
      "outputs": []
    },
    {
      "cell_type": "markdown",
      "source": [
        "8.Write a Python program to convert user input from string to integer, float, and boolean types."
      ],
      "metadata": {
        "id": "Y49-npG1qRWq"
      }
    },
    {
      "cell_type": "code",
      "source": [
        "# Function to demonstrate the conversion of user input to different types\n",
        "def convert_input():\n",
        "    # Get user input as a string\n",
        "    user_input = input(\"Enter a value: \")\n",
        "\n",
        "    # Convert input to an integer\n",
        "    try:\n",
        "        int_value = int(user_input)\n",
        "        print(\"Converted to integer:\", int_value)\n",
        "    except ValueError:\n",
        "        print(\"Input could not be converted to integer.\")\n",
        "\n",
        "    # Convert input to a float\n",
        "    try:\n",
        "        float_value = float(user_input)\n",
        "        print(\"Converted to float:\", float_value)\n",
        "    except ValueError:\n",
        "        print(\"Input could not be converted to float.\")\n",
        "\n",
        "    # Convert input to a boolean\n",
        "    # In Python, an empty string or 'False' is considered False; anything else is True\n",
        "    bool_value = bool(user_input)\n",
        "    print(\"Converted to boolean:\", bool_value)\n",
        "\n",
        "# Call the function\n",
        "convert_input()"
      ],
      "metadata": {
        "id": "wdyIHwyhqUTH"
      },
      "execution_count": null,
      "outputs": []
    },
    {
      "cell_type": "markdown",
      "source": [
        "9.Write code to demonstrate type casting with list elements."
      ],
      "metadata": {
        "id": "_xr1gl2Pqdh_"
      }
    },
    {
      "cell_type": "code",
      "source": [
        "# Function to demonstrate type casting with list elements\n",
        "def type_casting_with_list():\n",
        "    # A list with mixed types: strings, integers, and floats\n",
        "    original_list = ['10', '20.5', 'True', '30', '45.6', 'False']\n",
        "\n",
        "    print(\"Original List:\", original_list)\n",
        "\n",
        "    # Convert all elements to integers where possible\n",
        "    int_list = [int(float(item)) if item.replace('.', '', 1).isdigit() else item for item in original_list]\n",
        "    print(\"\\nList after converting numeric strings to integers:\", int_list)\n",
        "\n",
        "    # Convert all elements to floats where possible\n",
        "    float_list = [float(item) if item.replace('.', '', 1).isdigit() else item for item in original_list]\n",
        "    print(\"\\nList after converting numeric strings to floats:\", float_list)\n",
        "\n",
        "    # Convert 'True'/'False' strings to booleans\n",
        "    bool_list = [True if item == 'True' else (False if item == 'False' else item) for item in original_list]\n",
        "    print(\"\\nList after converting 'True'/'False' strings to booleans:\", bool_list)\n",
        "\n",
        "# Call the function\n",
        "type_casting_with_list()"
      ],
      "metadata": {
        "id": "a1HkxAO5qhqZ"
      },
      "execution_count": null,
      "outputs": []
    },
    {
      "cell_type": "markdown",
      "source": [
        "10.Write a program that checks if a number is positive, negative, or zero."
      ],
      "metadata": {
        "id": "KwQ8LP4jqkcL"
      }
    },
    {
      "cell_type": "code",
      "source": [
        "# Function to check if the number is positive, negative, or zero\n",
        "def check_number():\n",
        "    # Take input from the user\n",
        "    number = float(input(\"Enter a number: \"))\n",
        "\n",
        "    # Check if the number is positive, negative, or zero\n",
        "    if number > 0:\n",
        "        print(f\"{number} is positive.\")\n",
        "    elif number < 0:\n",
        "        print(f\"{number} is negative.\")\n",
        "    else:\n",
        "        print(f\"{number} is zero.\")\n",
        "\n",
        "# Call the function\n",
        "check_number()"
      ],
      "metadata": {
        "id": "9uqIj0YMqod8"
      },
      "execution_count": null,
      "outputs": []
    },
    {
      "cell_type": "markdown",
      "source": [
        "11. Write a for loop to print numbers from 1 to 10."
      ],
      "metadata": {
        "id": "Ucy23l8BqrSg"
      }
    },
    {
      "cell_type": "code",
      "source": [
        "# Using a for loop to print numbers from 1 to 10\n",
        "for number in range(1, 11):\n",
        "    print(number)"
      ],
      "metadata": {
        "id": "ctWJDec6qxG4"
      },
      "execution_count": null,
      "outputs": []
    },
    {
      "cell_type": "markdown",
      "source": [
        "12.Write a Python program to find the sum of all even numbers between 1 and 50."
      ],
      "metadata": {
        "id": "nj7qQ_TJqy-B"
      }
    },
    {
      "cell_type": "code",
      "source": [
        "# Initialize a variable to store the sum\n",
        "sum_of_even_numbers = 0\n",
        "\n",
        "# Loop through numbers from 1 to 50\n",
        "for number in range(1, 51):\n",
        "    # Check if the number is even\n",
        "    if number % 2 == 0:\n",
        "        sum_of_even_numbers += number  # Add the even number to the sum\n",
        "\n",
        "# Print the result\n",
        "print(\"Sum of all even numbers between 1 and 50 is:\", sum_of_even_numbers)"
      ],
      "metadata": {
        "id": "4RUu8Tu1q6jD"
      },
      "execution_count": null,
      "outputs": []
    },
    {
      "cell_type": "markdown",
      "source": [
        "13.Write a program to reverse a string using a while loop"
      ],
      "metadata": {
        "id": "4jzA16o_q_yg"
      }
    },
    {
      "cell_type": "code",
      "source": [
        "# Function to reverse a string using a while loop\n",
        "def reverse_string(string):\n",
        "    reversed_str = \"\"  # Initialize an empty string to store the reversed result\n",
        "    index = len(string) - 1  # Start from the last character\n",
        "\n",
        "    # Loop through the string in reverse\n",
        "    while index >= 0:\n",
        "        reversed_str += string[index]  # Append the character to the new string\n",
        "        index -= 1  # Move to the previous character\n",
        "\n",
        "    return reversed_str  # Return the reversed string\n",
        "\n",
        "# Take input from the user\n",
        "user_input = input(\"Enter a string: \")\n",
        "\n",
        "# Call the function and print the reversed string\n",
        "print(\"Reversed String:\", reverse_string(user_input))"
      ],
      "metadata": {
        "id": "8aQ5RVCIrF-B"
      },
      "execution_count": null,
      "outputs": []
    },
    {
      "cell_type": "markdown",
      "source": [
        "14.Write a Python program to calculate the factorial of a number provided by the user using a while loop."
      ],
      "metadata": {
        "id": "INXS_hu4rI26"
      }
    },
    {
      "cell_type": "code",
      "source": [
        "# Function to calculate factorial using a while loop\n",
        "def factorial(n):\n",
        "    if n < 0:\n",
        "        return \"Factorial is not defined for negative numbers.\"\n",
        "\n",
        "    result = 1  # Initialize the result to 1\n",
        "    while n > 1:\n",
        "        result *= n  # Multiply result by the current number\n",
        "        n -= 1  # Decrease the number by 1\n",
        "\n",
        "    return result  # Return the final factorial value\n",
        "\n",
        "# Take input from the user\n",
        "num = int(input(\"Enter a number: \"))\n",
        "\n",
        "# Call the function and print the factorial\n",
        "print(f\"Factorial of {num} is:\", factorial(num))"
      ],
      "metadata": {
        "id": "jdh2r8cerNGm"
      },
      "execution_count": null,
      "outputs": []
    },
    {
      "cell_type": "code",
      "source": [
        ""
      ],
      "metadata": {
        "id": "AD9LV14NrKJz"
      },
      "execution_count": null,
      "outputs": []
    }
  ]
}